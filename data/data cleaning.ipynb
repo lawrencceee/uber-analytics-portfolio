{
 "cells": [
  {
   "cell_type": "code",
   "execution_count": 10,
   "id": "34fc0c73",
   "metadata": {},
   "outputs": [],
   "source": [
    "import pandas as pd\n",
    "\n",
    "# Load Excel\n",
    "df = pd.read_csv(\"original dataset.csv\")\n",
    "df = df.drop_duplicates(subset=['Booking ID'])\n",
    "\n",
    "# Create rides DataFrame\n",
    "rides_cols = ['Booking ID','Customer ID','Vehicle Type','Pickup Location','Drop Location',\n",
    "              'Date','Time','Avg VTAT','Avg CTAT','Booking Value', 'Payment Method', 'Ride Distance',\n",
    "              'Driver Ratings','Customer Rating','Booking Status']\n",
    "df_rides = df[rides_cols]\n",
    "\n",
    "# Rename columns to match PostgreSQL table\n",
    "df_rides.columns = ['booking_id','customer_id','vehicle_type','pickup_location','drop_location',\n",
    "                    'ride_date','ride_time','avg_vtat','avg_ctat','booking_value', 'payment_method', 'ride_distance',\n",
    "                    'driver_rating','customer_rating','booking_status']\n",
    "\n",
    "# Create cancellations DataFrame\n",
    "cancellation_cols = ['Booking ID', 'Booking Status', 'Cancelled Rides by Customer','Reason for cancelling by Customer',\n",
    "                     'Cancelled Rides by Driver','Driver Cancellation Reason','Incomplete Rides','Incomplete Rides Reason']\n",
    "df_canc = df[cancellation_cols]\n",
    "\n",
    "df_canc.columns = ['booking_id', 'booking_status', 'cancelled_rides_by_customer','reason_customer',\n",
    "                   'cancelled_rides_by_driver','reason_driver','incomplete_rides','reason_incomplete']\n",
    "\n",
    "# Save to CSV for PostgreSQL import\n",
    "df_rides.to_csv(\"rides.csv\", index=False)\n",
    "df_canc.to_csv(\"cancellations.csv\", index=False)"
   ]
  }
 ],
 "metadata": {
  "kernelspec": {
   "display_name": "base",
   "language": "python",
   "name": "python3"
  },
  "language_info": {
   "codemirror_mode": {
    "name": "ipython",
    "version": 3
   },
   "file_extension": ".py",
   "mimetype": "text/x-python",
   "name": "python",
   "nbconvert_exporter": "python",
   "pygments_lexer": "ipython3",
   "version": "3.13.2"
  }
 },
 "nbformat": 4,
 "nbformat_minor": 5
}
